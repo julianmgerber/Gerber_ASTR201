{
 "cells": [
  {
   "cell_type": "code",
   "execution_count": null,
   "id": "40f66f25-1c13-46c5-8ef6-7386e6b52961",
   "metadata": {},
   "outputs": [],
   "source": []
  }
 ],
 "metadata": {
  "kernelspec": {
   "display_name": "",
   "name": ""
  },
  "language_info": {
   "name": ""
  }
 },
 "nbformat": 4,
 "nbformat_minor": 5
}
